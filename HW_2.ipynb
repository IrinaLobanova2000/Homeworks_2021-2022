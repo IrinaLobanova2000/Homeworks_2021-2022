{
  "nbformat": 4,
  "nbformat_minor": 0,
  "metadata": {
    "colab": {
      "name": "HW-2",
      "provenance": [],
      "collapsed_sections": []
    },
    "kernelspec": {
      "name": "python3",
      "display_name": "Python 3"
    },
    "language_info": {
      "name": "python"
    }
  },
  "cells": [
    {
      "cell_type": "markdown",
      "metadata": {
        "id": "SD-JazmOaVTZ"
      },
      "source": [
        "Данные отсюда: https://nijianmo.github.io/amazon/index.html, категория All beauty (reviews и metadata)"
      ]
    },
    {
      "cell_type": "markdown",
      "metadata": {
        "id": "VfHc6l8rhKz0"
      },
      "source": [
        "Способы:\n",
        "1. Написать правила с помощью natasha/yargy/spacy. Дополнительные данные не нужны. Плюсы: хороший результат, мало неоднозначности. Минусы: долго. \n",
        "2. Посмотреть metadata. Найти упоминания в столбце title, составить массив комментариев к этим товарам, найти ne в комментариях, например, при помощи словаря сущностей. Используются метаданные. Плюсы: легко, точно найдутся отзывы на нужный товар. Минусы: недостаточно просто найти отзывы на товар, нужно еще смотреть упоминания, так что получится довольно долго. \n",
        "3. Составить мини-словарь сущностей/дескрипторов, расширить с помощью эмбеддингов (например, word2vec). Плюсы: просто, быстро. Минусы: что-то можно не учесть.\n",
        "\n",
        "Я буду использовать spacy (он подходит для английского).\n"
      ]
    },
    {
      "cell_type": "code",
      "metadata": {
        "id": "CEBEffIxPkd7"
      },
      "source": [
        "!pip install natasha"
      ],
      "execution_count": null,
      "outputs": []
    },
    {
      "cell_type": "code",
      "metadata": {
        "id": "ewRpAew6aKcS"
      },
      "source": [
        "import pandas as pd\n",
        "import gzip\n",
        "import json\n",
        "\n",
        "def parse(path):\n",
        "  g = gzip.open(path, 'rb')\n",
        "  for l in g:\n",
        "    yield json.loads(l)\n",
        "\n",
        "def getDF(path):\n",
        "  i = 0\n",
        "  df = {}\n",
        "  for d in parse(path):\n",
        "    df[i] = d\n",
        "    i += 1\n",
        "  return pd.DataFrame.from_dict(df, orient='index')\n",
        "\n",
        "df = getDF('All_Beauty.json.gz')\n",
        "meta = getDF('meta_All_Beauty.json.gz')"
      ],
      "execution_count": 3,
      "outputs": []
    },
    {
      "cell_type": "code",
      "metadata": {
        "id": "JZlRjhcnYG0K"
      },
      "source": [
        "from collections import Counter"
      ],
      "execution_count": 131,
      "outputs": []
    },
    {
      "cell_type": "code",
      "metadata": {
        "colab": {
          "base_uri": "https://localhost:8080/",
          "height": 423
        },
        "id": "oI2pEs5mFlwY",
        "outputId": "0f4e9de7-332b-42ad-fab3-e4b6b90dd162"
      },
      "source": [
        "from sklearn.utils import shuffle\n",
        "df = shuffle(df[['reviewText', 'asin' ]])\n",
        "df"
      ],
      "execution_count": 56,
      "outputs": [
        {
          "output_type": "execute_result",
          "data": {
            "text/html": [
              "<div>\n",
              "<style scoped>\n",
              "    .dataframe tbody tr th:only-of-type {\n",
              "        vertical-align: middle;\n",
              "    }\n",
              "\n",
              "    .dataframe tbody tr th {\n",
              "        vertical-align: top;\n",
              "    }\n",
              "\n",
              "    .dataframe thead th {\n",
              "        text-align: right;\n",
              "    }\n",
              "</style>\n",
              "<table border=\"1\" class=\"dataframe\">\n",
              "  <thead>\n",
              "    <tr style=\"text-align: right;\">\n",
              "      <th></th>\n",
              "      <th>reviewText</th>\n",
              "      <th>asin</th>\n",
              "    </tr>\n",
              "  </thead>\n",
              "  <tbody>\n",
              "    <tr>\n",
              "      <th>275725</th>\n",
              "      <td>For the color and consistency of this product,...</td>\n",
              "      <td>B005GMYQ1Q</td>\n",
              "    </tr>\n",
              "    <tr>\n",
              "      <th>286080</th>\n",
              "      <td>I love these. They are all small but otherwise...</td>\n",
              "      <td>B00CBP9U5I</td>\n",
              "    </tr>\n",
              "    <tr>\n",
              "      <th>304559</th>\n",
              "      <td>Perfect match to the shirt I also ordered!</td>\n",
              "      <td>B00KPHK3KA</td>\n",
              "    </tr>\n",
              "    <tr>\n",
              "      <th>234238</th>\n",
              "      <td>Did absolutely nothing to cure beardruff.</td>\n",
              "      <td>B01CDEJ1H8</td>\n",
              "    </tr>\n",
              "    <tr>\n",
              "      <th>323634</th>\n",
              "      <td>The description is 5pair , I only received one...</td>\n",
              "      <td>B00UL6HUQA</td>\n",
              "    </tr>\n",
              "    <tr>\n",
              "      <th>...</th>\n",
              "      <td>...</td>\n",
              "      <td>...</td>\n",
              "    </tr>\n",
              "    <tr>\n",
              "      <th>318278</th>\n",
              "      <td>Warning the pump is horrible its by air thrust...</td>\n",
              "      <td>B00R24HVDQ</td>\n",
              "    </tr>\n",
              "    <tr>\n",
              "      <th>148451</th>\n",
              "      <td>Just as expected</td>\n",
              "      <td>B00F029PWC</td>\n",
              "    </tr>\n",
              "    <tr>\n",
              "      <th>341433</th>\n",
              "      <td>It gave me a rash all over my body by the thir...</td>\n",
              "      <td>B016V8YWBC</td>\n",
              "    </tr>\n",
              "    <tr>\n",
              "      <th>334656</th>\n",
              "      <td>the hole is a little too big</td>\n",
              "      <td>B013GP61BC</td>\n",
              "    </tr>\n",
              "    <tr>\n",
              "      <th>33134</th>\n",
              "      <td>Great product for a great price. Can't do much...</td>\n",
              "      <td>B000GLRREU</td>\n",
              "    </tr>\n",
              "  </tbody>\n",
              "</table>\n",
              "<p>371345 rows × 2 columns</p>\n",
              "</div>"
            ],
            "text/plain": [
              "                                               reviewText        asin\n",
              "275725  For the color and consistency of this product,...  B005GMYQ1Q\n",
              "286080  I love these. They are all small but otherwise...  B00CBP9U5I\n",
              "304559         Perfect match to the shirt I also ordered!  B00KPHK3KA\n",
              "234238          Did absolutely nothing to cure beardruff.  B01CDEJ1H8\n",
              "323634  The description is 5pair , I only received one...  B00UL6HUQA\n",
              "...                                                   ...         ...\n",
              "318278  Warning the pump is horrible its by air thrust...  B00R24HVDQ\n",
              "148451                                   Just as expected  B00F029PWC\n",
              "341433  It gave me a rash all over my body by the thir...  B016V8YWBC\n",
              "334656                       the hole is a little too big  B013GP61BC\n",
              "33134   Great product for a great price. Can't do much...  B000GLRREU\n",
              "\n",
              "[371345 rows x 2 columns]"
            ]
          },
          "metadata": {},
          "execution_count": 56
        }
      ]
    },
    {
      "cell_type": "code",
      "metadata": {
        "colab": {
          "base_uri": "https://localhost:8080/",
          "height": 423
        },
        "id": "oZg4RSHoaNye",
        "outputId": "d652345d-3ac2-4691-9a22-330cfd8045d4"
      },
      "source": [
        "meta = shuffle(meta[['category','title','asin' ]])\n",
        "meta"
      ],
      "execution_count": 5,
      "outputs": [
        {
          "output_type": "execute_result",
          "data": {
            "text/html": [
              "<div>\n",
              "<style scoped>\n",
              "    .dataframe tbody tr th:only-of-type {\n",
              "        vertical-align: middle;\n",
              "    }\n",
              "\n",
              "    .dataframe tbody tr th {\n",
              "        vertical-align: top;\n",
              "    }\n",
              "\n",
              "    .dataframe thead th {\n",
              "        text-align: right;\n",
              "    }\n",
              "</style>\n",
              "<table border=\"1\" class=\"dataframe\">\n",
              "  <thead>\n",
              "    <tr style=\"text-align: right;\">\n",
              "      <th></th>\n",
              "      <th>category</th>\n",
              "      <th>title</th>\n",
              "      <th>asin</th>\n",
              "    </tr>\n",
              "  </thead>\n",
              "  <tbody>\n",
              "    <tr>\n",
              "      <th>18836</th>\n",
              "      <td>[]</td>\n",
              "      <td>Pokemon Happy Birthday Balloon Bouquet</td>\n",
              "      <td>B00SLYZF1G</td>\n",
              "    </tr>\n",
              "    <tr>\n",
              "      <th>12649</th>\n",
              "      <td>[]</td>\n",
              "      <td>Collection Lasting Perfection Concealer, Cool ...</td>\n",
              "      <td>B00IPG1ZQ4</td>\n",
              "    </tr>\n",
              "    <tr>\n",
              "      <th>21567</th>\n",
              "      <td>[]</td>\n",
              "      <td>Nmark Muji Mild Scrub Face Wash Form 120g (Gre...</td>\n",
              "      <td>B00ZR3YNVM</td>\n",
              "    </tr>\n",
              "    <tr>\n",
              "      <th>18598</th>\n",
              "      <td>[]</td>\n",
              "      <td>Disney Princess Lip Gloss Fruity Flavors 6 Pack</td>\n",
              "      <td>B00S1HC6WE</td>\n",
              "    </tr>\n",
              "    <tr>\n",
              "      <th>31455</th>\n",
              "      <td>[]</td>\n",
              "      <td>No7 Beautiful Skin Dark Circle Corrector</td>\n",
              "      <td>B01FOREP0Y</td>\n",
              "    </tr>\n",
              "    <tr>\n",
              "      <th>...</th>\n",
              "      <td>...</td>\n",
              "      <td>...</td>\n",
              "      <td>...</td>\n",
              "    </tr>\n",
              "    <tr>\n",
              "      <th>15251</th>\n",
              "      <td>[]</td>\n",
              "      <td>EX1 Cosmetics Invisiwear Liquid Foundation Num...</td>\n",
              "      <td>B00M681DWI</td>\n",
              "    </tr>\n",
              "    <tr>\n",
              "      <th>3321</th>\n",
              "      <td>[]</td>\n",
              "      <td>Panasonic WES9839P Men's Electric Razor Replac...</td>\n",
              "      <td>B001J6O0NW</td>\n",
              "    </tr>\n",
              "    <tr>\n",
              "      <th>16179</th>\n",
              "      <td>[]</td>\n",
              "      <td>Hello Breath Spray - Mojito Mint .24 oz. (Pack...</td>\n",
              "      <td>B00NB588BE</td>\n",
              "    </tr>\n",
              "    <tr>\n",
              "      <th>15993</th>\n",
              "      <td>[]</td>\n",
              "      <td>Kiss Double-Up TopGel Nail Top Coat, 60656, 0....</td>\n",
              "      <td>B00N3TUURI</td>\n",
              "    </tr>\n",
              "    <tr>\n",
              "      <th>8943</th>\n",
              "      <td>[]</td>\n",
              "      <td>Sensuality Oil Sunshine Spa 0.25 oz Liquid</td>\n",
              "      <td>B00CKWYWA0</td>\n",
              "    </tr>\n",
              "  </tbody>\n",
              "</table>\n",
              "<p>32892 rows × 3 columns</p>\n",
              "</div>"
            ],
            "text/plain": [
              "      category                                              title        asin\n",
              "18836       []             Pokemon Happy Birthday Balloon Bouquet  B00SLYZF1G\n",
              "12649       []  Collection Lasting Perfection Concealer, Cool ...  B00IPG1ZQ4\n",
              "21567       []  Nmark Muji Mild Scrub Face Wash Form 120g (Gre...  B00ZR3YNVM\n",
              "18598       []    Disney Princess Lip Gloss Fruity Flavors 6 Pack  B00S1HC6WE\n",
              "31455       []           No7 Beautiful Skin Dark Circle Corrector  B01FOREP0Y\n",
              "...        ...                                                ...         ...\n",
              "15251       []  EX1 Cosmetics Invisiwear Liquid Foundation Num...  B00M681DWI\n",
              "3321        []  Panasonic WES9839P Men's Electric Razor Replac...  B001J6O0NW\n",
              "16179       []  Hello Breath Spray - Mojito Mint .24 oz. (Pack...  B00NB588BE\n",
              "15993       []  Kiss Double-Up TopGel Nail Top Coat, 60656, 0....  B00N3TUURI\n",
              "8943        []         Sensuality Oil Sunshine Spa 0.25 oz Liquid  B00CKWYWA0\n",
              "\n",
              "[32892 rows x 3 columns]"
            ]
          },
          "metadata": {},
          "execution_count": 5
        }
      ]
    },
    {
      "cell_type": "code",
      "metadata": {
        "colab": {
          "base_uri": "https://localhost:8080/",
          "height": 580
        },
        "id": "bZjbVImvKrGi",
        "outputId": "63636057-672d-467e-fbaa-92a03ed09d22"
      },
      "source": [
        "full_data = df.merge(meta, on=[\"asin\"])\n",
        "full_data"
      ],
      "execution_count": 6,
      "outputs": [
        {
          "output_type": "execute_result",
          "data": {
            "text/html": [
              "<div>\n",
              "<style scoped>\n",
              "    .dataframe tbody tr th:only-of-type {\n",
              "        vertical-align: middle;\n",
              "    }\n",
              "\n",
              "    .dataframe tbody tr th {\n",
              "        vertical-align: top;\n",
              "    }\n",
              "\n",
              "    .dataframe thead th {\n",
              "        text-align: right;\n",
              "    }\n",
              "</style>\n",
              "<table border=\"1\" class=\"dataframe\">\n",
              "  <thead>\n",
              "    <tr style=\"text-align: right;\">\n",
              "      <th></th>\n",
              "      <th>reviewText</th>\n",
              "      <th>asin</th>\n",
              "      <th>category</th>\n",
              "      <th>title</th>\n",
              "    </tr>\n",
              "  </thead>\n",
              "  <tbody>\n",
              "    <tr>\n",
              "      <th>0</th>\n",
              "      <td>Love it!</td>\n",
              "      <td>B0067F28ZW</td>\n",
              "      <td>[]</td>\n",
              "      <td>Eyelash Growth Serum - 100% Natural Eyelash Ey...</td>\n",
              "    </tr>\n",
              "    <tr>\n",
              "      <th>1</th>\n",
              "      <td>This brush set is good just a bit short ..but ...</td>\n",
              "      <td>B0067F28ZW</td>\n",
              "      <td>[]</td>\n",
              "      <td>Eyelash Growth Serum - 100% Natural Eyelash Ey...</td>\n",
              "    </tr>\n",
              "    <tr>\n",
              "      <th>2</th>\n",
              "      <td>great brushes for a good value</td>\n",
              "      <td>B0067F28ZW</td>\n",
              "      <td>[]</td>\n",
              "      <td>Eyelash Growth Serum - 100% Natural Eyelash Ey...</td>\n",
              "    </tr>\n",
              "    <tr>\n",
              "      <th>3</th>\n",
              "      <td>i like these brushes, the eyebrow brush came w...</td>\n",
              "      <td>B0067F28ZW</td>\n",
              "      <td>[]</td>\n",
              "      <td>Eyelash Growth Serum - 100% Natural Eyelash Ey...</td>\n",
              "    </tr>\n",
              "    <tr>\n",
              "      <th>4</th>\n",
              "      <td>Low quality didn't last</td>\n",
              "      <td>B0067F28ZW</td>\n",
              "      <td>[]</td>\n",
              "      <td>Eyelash Growth Serum - 100% Natural Eyelash Ey...</td>\n",
              "    </tr>\n",
              "    <tr>\n",
              "      <th>...</th>\n",
              "      <td>...</td>\n",
              "      <td>...</td>\n",
              "      <td>...</td>\n",
              "      <td>...</td>\n",
              "    </tr>\n",
              "    <tr>\n",
              "      <th>382527</th>\n",
              "      <td>I really like these bifocal sunglasses.  I hav...</td>\n",
              "      <td>B006XZG6BS</td>\n",
              "      <td>[]</td>\n",
              "      <td>Town and Country Designer Bifocal Sunglasses f...</td>\n",
              "    </tr>\n",
              "    <tr>\n",
              "      <th>382528</th>\n",
              "      <td>Exelent product for pregnant womens and after ...</td>\n",
              "      <td>B0045PC92I</td>\n",
              "      <td>[]</td>\n",
              "      <td>Calciodoron PM-50 g Brand: Weleda</td>\n",
              "    </tr>\n",
              "    <tr>\n",
              "      <th>382529</th>\n",
              "      <td>This is not a strong product for the clinic</td>\n",
              "      <td>B010PS0LEG</td>\n",
              "      <td>[]</td>\n",
              "      <td>AHRONG ELTECH REX-KARA II Skin Massager Skin C...</td>\n",
              "    </tr>\n",
              "    <tr>\n",
              "      <th>382530</th>\n",
              "      <td>This gives you an amazing flawless finish. I h...</td>\n",
              "      <td>B01CDW6O6G</td>\n",
              "      <td>[]</td>\n",
              "      <td>Tarte Rainforest of the Sea Water Foundation L...</td>\n",
              "    </tr>\n",
              "    <tr>\n",
              "      <th>382531</th>\n",
              "      <td>It's definitely adjustable I wore this with a ...</td>\n",
              "      <td>B0169XVGKE</td>\n",
              "      <td>[]</td>\n",
              "      <td>2 in 1 Postpartum Postnatal Recoery Support Gi...</td>\n",
              "    </tr>\n",
              "  </tbody>\n",
              "</table>\n",
              "<p>382532 rows × 4 columns</p>\n",
              "</div>"
            ],
            "text/plain": [
              "                                               reviewText  ...                                              title\n",
              "0                                                Love it!  ...  Eyelash Growth Serum - 100% Natural Eyelash Ey...\n",
              "1       This brush set is good just a bit short ..but ...  ...  Eyelash Growth Serum - 100% Natural Eyelash Ey...\n",
              "2                          great brushes for a good value  ...  Eyelash Growth Serum - 100% Natural Eyelash Ey...\n",
              "3       i like these brushes, the eyebrow brush came w...  ...  Eyelash Growth Serum - 100% Natural Eyelash Ey...\n",
              "4                                 Low quality didn't last  ...  Eyelash Growth Serum - 100% Natural Eyelash Ey...\n",
              "...                                                   ...  ...                                                ...\n",
              "382527  I really like these bifocal sunglasses.  I hav...  ...  Town and Country Designer Bifocal Sunglasses f...\n",
              "382528  Exelent product for pregnant womens and after ...  ...                  Calciodoron PM-50 g Brand: Weleda\n",
              "382529        This is not a strong product for the clinic  ...  AHRONG ELTECH REX-KARA II Skin Massager Skin C...\n",
              "382530  This gives you an amazing flawless finish. I h...  ...  Tarte Rainforest of the Sea Water Foundation L...\n",
              "382531  It's definitely adjustable I wore this with a ...  ...  2 in 1 Postpartum Postnatal Recoery Support Gi...\n",
              "\n",
              "[382532 rows x 4 columns]"
            ]
          },
          "metadata": {},
          "execution_count": 6
        }
      ]
    },
    {
      "cell_type": "code",
      "metadata": {
        "id": "klpchyOJDoQI"
      },
      "source": [
        "data = full_data[:100000]"
      ],
      "execution_count": 58,
      "outputs": []
    },
    {
      "cell_type": "code",
      "metadata": {
        "colab": {
          "base_uri": "https://localhost:8080/"
        },
        "id": "3UPhgvt19pQu",
        "outputId": "7c07948d-1093-40f3-cc2b-fe812edf8f34"
      },
      "source": [
        "n = 0\n",
        "for i in data['reviewText'][:300000]:\n",
        "  if 'lipstick' or 'chapstick' in str(i):\n",
        "    #print(i)\n",
        "    n+=1\n",
        "print(n)"
      ],
      "execution_count": 61,
      "outputs": [
        {
          "output_type": "stream",
          "name": "stdout",
          "text": [
            "100000\n"
          ]
        }
      ]
    },
    {
      "cell_type": "markdown",
      "metadata": {
        "id": "TaAOSAGcEFF2"
      },
      "source": [
        "Будем искать помады."
      ]
    },
    {
      "cell_type": "code",
      "metadata": {
        "id": "9F1o0GwJ2ise"
      },
      "source": [
        "!pip install spacy"
      ],
      "execution_count": null,
      "outputs": []
    },
    {
      "cell_type": "code",
      "metadata": {
        "id": "ZUqmY4n1_XHF"
      },
      "source": [
        "import spacy\n",
        "from spacy.matcher import Matcher"
      ],
      "execution_count": 46,
      "outputs": []
    },
    {
      "cell_type": "code",
      "metadata": {
        "id": "ymP2-stK9o75"
      },
      "source": [
        "from spacy.lang.en import English"
      ],
      "execution_count": 40,
      "outputs": []
    },
    {
      "cell_type": "code",
      "metadata": {
        "id": "3yHbNDWg9pvJ"
      },
      "source": [
        "nlp = English()\n",
        "doc = nlp('This is not a strong product for the clinic')"
      ],
      "execution_count": 41,
      "outputs": []
    },
    {
      "cell_type": "code",
      "metadata": {
        "id": "vsC3oU1o9pc3"
      },
      "source": [
        "matcher = Matcher(nlp.vocab)\n",
        "pattern = [\n",
        "    {\"POS\": \"ADJF\"},\n",
        "    {\"LOWER\": \"product\"}\n",
        "]\n",
        "matcher.add(\"fifa_pattern\", None, pattern)\n",
        "doc = nlp(\"This is not a strong product for the clinic\")\n",
        "matches = matcher(doc)\n",
        "for match_id, start, end in matches:\n",
        "    matched_span = doc[start:end]\n",
        "    print(matched_span)"
      ],
      "execution_count": 49,
      "outputs": []
    },
    {
      "cell_type": "code",
      "metadata": {
        "id": "3NNEXiUMFT8U"
      },
      "source": [
        "import re"
      ],
      "execution_count": 63,
      "outputs": []
    },
    {
      "cell_type": "code",
      "metadata": {
        "id": "-dH2YM7FBNK7"
      },
      "source": [
        "pattern1 =  [\n",
        "    {\"POS\": \"ADJF\"},\n",
        "    {\"LOWER\": \"lipstick\"}\n",
        "]\n",
        "pattern2 =  [\n",
        "    {\"POS\": \"ADJF\"},\n",
        "    {\"LOWER\": \"chapstick\"}\n",
        "]\n",
        "pattern3 =  [\n",
        "    {\"LOWER\": \"this\"},\n",
        "    {\"LOWER\": \"lipstick\"}\n",
        "]\n",
        "pattern4 =  [\n",
        "    {\"LOWER\": \"this\"},\n",
        "    {\"LOWER\": \"chapstick\"}\n",
        "]\n",
        "pattern5 =  [\n",
        "    {\"LOWER\": \"lipstick\"},\n",
        "    {\"POS\": \"NOUN\"}\n",
        "]\n",
        "pattern6 =  [\n",
        "    {\"LOWER\": \"chapstick\"},\n",
        "    {\"POS\": \"NOUN\"}\n",
        "]\n",
        "pattern7 =  [\n",
        "    {\"LOWER\": \"chapstick|lipstick\"},\n",
        "    {\"POS\": \"NOUN\"}\n",
        "]\n",
        "pattern8 =  [\n",
        "    {\"POS\": \"ADJF\"},\n",
        "    {\"LOWER\": \"product\"}\n",
        "]\n",
        "pattern9 =  [\n",
        "    {\"POS\": \"ADJF\"},\n",
        "    {\"TEXT\": r\"\\w+\"},\n",
        "    {\"LOWER\": \"chapstick|lipstick|thing\"}\n",
        "]"
      ],
      "execution_count": 124,
      "outputs": []
    },
    {
      "cell_type": "code",
      "metadata": {
        "id": "HEf2sDq5BNCx"
      },
      "source": [
        "matcher.add(\"ne_patterns\", None, pattern1, pattern2, pattern3, pattern4, pattern5, pattern6, pattern7, pattern8, pattern9)"
      ],
      "execution_count": 111,
      "outputs": []
    },
    {
      "cell_type": "code",
      "metadata": {
        "id": "uCLFfzk_F_Vm"
      },
      "source": [
        "ne = []\n",
        "#беру 50000, потому что на бОльшей выборке очень долго работает:(\n",
        "for item in list(data['reviewText'][:50000]):\n",
        "    doc = nlp(str(item))\n",
        "    matches = matcher(doc)\n",
        "    spans = [doc[start:end] for _, start, end in matches] \n",
        "    ne.append(spans)"
      ],
      "execution_count": 113,
      "outputs": []
    },
    {
      "cell_type": "code",
      "metadata": {
        "id": "uC22hXAwTqbv"
      },
      "source": [
        "ne = [str(element) for element in ne]\n",
        "exclusive = list(Counter(ne).keys())\n",
        "print(exclusive)"
      ],
      "execution_count": null,
      "outputs": []
    },
    {
      "cell_type": "code",
      "metadata": {
        "id": "hhUqtahjF_Sd"
      },
      "source": [
        "left_pattern1 =  [\n",
        "    {\"LENGTH\": {\"<=\": 30}},\n",
        "    {\"POS\": \"ADJF\"},\n",
        "    {\"LOWER\": \"lipstick\"}\n",
        "]\n",
        "left_pattern2 =  [\n",
        "    {\"LENGTH\": {\"<=\": 30}},\n",
        "    {\"POS\": \"ADJF\"},\n",
        "    {\"LOWER\": \"chapstick\"}\n",
        "]\n",
        "left_pattern3 =  [\n",
        "    {\"LENGTH\": {\"<=\": 30}},\n",
        "    {\"LOWER\": \"this\"},\n",
        "    {\"LOWER\": \"lipstick\"}\n",
        "]\n",
        "left_pattern4 =  [\n",
        "    {\"LENGTH\": {\"<=\": 30}},\n",
        "    {\"LOWER\": \"this\"},\n",
        "    {\"LOWER\": \"chapstick\"}\n",
        "]\n",
        "left_pattern5 =  [\n",
        "    {\"LENGTH\": {\"<=\": 30}},\n",
        "    {\"LOWER\": \"lipstick\"},\n",
        "    {\"POS\": \"NOUN\"}\n",
        "]\n",
        "left_pattern6 =  [\n",
        "    {\"LENGTH\": {\"<=\": 30}},\n",
        "    {\"LOWER\": \"chapstick\"},\n",
        "    {\"POS\": \"NOUN\"}\n",
        "]\n",
        "left_pattern7 =  [\n",
        "    {\"LENGTH\": {\"<=\": 30}},\n",
        "    {\"LOWER\": \"chapstick|lipstick\"},\n",
        "    {\"POS\": \"NOUN\"}\n",
        "]\n",
        "left_pattern8 =  [\n",
        "    {\"LENGTH\": {\"<=\": 30}},\n",
        "    {\"POS\": \"ADJF\"},\n",
        "    {\"TEXT\": r\"\\w+\"},\n",
        "    {\"LOWER\": \"chapstick|lipstick|thing\"}\n",
        "]\n",
        "left_pattern9 =  [\n",
        "    {\"LENGTH\": {\"<=\": 30}},\n",
        "    {\"LOWER\": \"this\"},\n",
        "    {\"TEXT\": r\"\\w+\"},\n",
        "    {\"LOWER\": \"chapstick|lipstick|thing\"}\n",
        "]"
      ],
      "execution_count": 128,
      "outputs": []
    },
    {
      "cell_type": "code",
      "metadata": {
        "id": "4hLk9JdNF_OU"
      },
      "source": [
        "matcher = Matcher(nlp.vocab)\n",
        "matcher.add(\"left_patterns\", None, left_pattern1, left_pattern2, left_pattern3, left_pattern4, left_pattern5, left_pattern6, left_pattern7, left_pattern8, left_pattern9)"
      ],
      "execution_count": 130,
      "outputs": []
    },
    {
      "cell_type": "code",
      "metadata": {
        "id": "lIQRY3rrF_H0"
      },
      "source": [
        "left = []\n",
        "for item in list(data['reviewText'][:50000]):\n",
        "    doc = nlp(str(item))\n",
        "    matches = matcher(doc)\n",
        "    spans = [doc[start:end] for _, start, end in matches] \n",
        "    left.append(spans)"
      ],
      "execution_count": 132,
      "outputs": []
    },
    {
      "cell_type": "code",
      "metadata": {
        "colab": {
          "base_uri": "https://localhost:8080/"
        },
        "id": "gVtacU6GF_A9",
        "outputId": "d6bdc507-4ce6-44a6-e6a5-449bb83bb53c"
      },
      "source": [
        "left = [str(element) for element in left]\n",
        "left_ngramm = list(Counter(left).keys())\n",
        "print(left_ngramm)"
      ],
      "execution_count": 135,
      "outputs": [
        {
          "output_type": "stream",
          "name": "stdout",
          "text": [
            "['[]', '[tried this lipstick]', '[and lipstick base]', '[with this lipstick]', '[of this lipstick]', '[and this lipstick]', '[love this lipstick]', '[describe this lipstick]', '[general lipstick bullet]', '[a lipstick crayon]', '[my lipstick collection]', '[each lipstick case]', '[these lipstick cases]', '[worn lipstick case]', '[the lipstick cases]', '[quality lipstick cases]', '[your lipstick case]', '[good lipstick holders]', '[Nice lipstick cases]', '[your lipstick colors]', '[casual lipstick wearer]', '[buy lipstick pencils]', '[many lipstick colors]', '[the lipstick tone, lighter lipstick color, same lipstick color]', '[different lipstick colors]', '[as lipstick colors]', '[new lipstick shades]', '[these lipstick liners]', '[my lipstick shades]', '[cheap lipstick smell]', '[your lipstick collection]', '[my lipstick color]', '[as lipstick substitute]', '[end lipstick liner]', '[Liquid Lipstick set]', '[a lipstick person]', '[used lipstick colors]', '[your lipstick fades]', '[a lipstick w]', '[of lipstick colors]', '[any lipstick color]']\n"
          ]
        }
      ]
    },
    {
      "cell_type": "code",
      "metadata": {
        "id": "7ofVlRW0dvMx"
      },
      "source": [
        "right_pattern1 =  [\n",
        "    {\"POS\": \"ADJF\"},\n",
        "    {\"LOWER\": \"lipstick\"},\n",
        "    {\"LENGTH\": {\"<=\": 30}}\n",
        "]\n",
        "right_pattern2 =  [\n",
        "    {\"POS\": \"ADJF\"},\n",
        "    {\"LOWER\": \"chapstick\"},\n",
        "    {\"LENGTH\": {\"<=\": 30}}\n",
        "]\n",
        "right_pattern3 =  [\n",
        "    {\"LENGTH\": {\"<=\": 30}},\n",
        "    {\"LOWER\": \"this\"},\n",
        "    {\"LOWER\": \"lipstick\"}\n",
        "]\n",
        "right_pattern4 =  [\n",
        "    {\"LOWER\": \"this\"},\n",
        "    {\"LOWER\": \"chapstick\"},\n",
        "    {\"LENGTH\": {\"<=\": 30}}\n",
        "]\n",
        "right_pattern5 =  [\n",
        "    {\"LOWER\": \"lipstick\"},\n",
        "    {\"POS\": \"NOUN\"},\n",
        "    {\"LENGTH\": {\"<=\": 30}}\n",
        "]\n",
        "right_pattern6 =  [\n",
        "    {\"LOWER\": \"chapstick\"},\n",
        "    {\"POS\": \"NOUN\"},\n",
        "    {\"LENGTH\": {\"<=\": 30}}\n",
        "]\n",
        "right_pattern7 =  [\n",
        "    {\"LOWER\": \"chapstick|lipstick\"},\n",
        "    {\"POS\": \"NOUN\"}\n",
        "    {\"LENGTH\": {\"<=\": 30}}\n",
        "]\n",
        "right_pattern8 =  [\n",
        "    {\"POS\": \"ADJF\"},\n",
        "    {\"TEXT\": r\"\\w+\"},\n",
        "    {\"LOWER\": \"chapstick|lipstick|thing\"},\n",
        "    {\"LENGTH\": {\"<=\": 30}}\n",
        "]\n",
        "right_pattern9 =  [\n",
        "    {\"LOWER\": \"this\"},\n",
        "    {\"TEXT\": r\"\\w+\"},\n",
        "    {\"LOWER\": \"chapstick|lipstick|thing\"},\n",
        "    {\"LENGTH\": {\"<=\": 30}}\n",
        "]"
      ],
      "execution_count": 145,
      "outputs": []
    },
    {
      "cell_type": "code",
      "metadata": {
        "id": "j1hMmWW_BM5s"
      },
      "source": [
        "matcher = Matcher(nlp.vocab)\n",
        "matcher.add(\"right_patterns\", None, right_pattern1, right_pattern2, right_pattern3, right_pattern4, right_pattern5, right_pattern6, right_pattern7, right_pattern8, right_pattern9)"
      ],
      "execution_count": 146,
      "outputs": []
    },
    {
      "cell_type": "code",
      "metadata": {
        "id": "Alt0xgAg8Mfy"
      },
      "source": [
        "right = []\n",
        "for item in list(data['reviewText'][:50000]):\n",
        "    doc = nlp(str(item))\n",
        "    matches = matcher(doc)\n",
        "    spans = [doc[start:end] for _, start, end in matches] \n",
        "    right.append(spans)"
      ],
      "execution_count": 147,
      "outputs": []
    },
    {
      "cell_type": "code",
      "metadata": {
        "id": "9qxmMpF93jU6"
      },
      "source": [
        "right = [str(element) for element in left]\n",
        "right_ngramm = list(Counter(right).keys())\n",
        "print(right_ngramm)"
      ],
      "execution_count": null,
      "outputs": []
    }
  ]
}
